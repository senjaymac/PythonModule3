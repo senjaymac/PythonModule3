{
 "cells": [
  {
   "cell_type": "code",
   "execution_count": null,
   "id": "38247331",
   "metadata": {},
   "outputs": [],
   "source": [
    "import statistics\n",
    "import array as arr\n",
    "\n",
    "friends_usage = [ 5, 4, 3, 5, 8, 2, 5, 2, 5, 8, 10, 8, 7, 9, 10, 5, 7, 5, 7, 5, 4, 3, 5, 8, 4]\n",
    "\n",
    "sample data = arr.array('i',friends_usage)\n",
    "dataset = sample_data"
   ]
  }
 ],
 "metadata": {
  "kernelspec": {
   "display_name": "Python 3 (ipykernel)",
   "language": "python",
   "name": "python3"
  },
  "language_info": {
   "codemirror_mode": {
    "name": "ipython",
    "version": 3
   },
   "file_extension": ".py",
   "mimetype": "text/x-python",
   "name": "python",
   "nbconvert_exporter": "python",
   "pygments_lexer": "ipython3",
   "version": "3.10.4"
  }
 },
 "nbformat": 4,
 "nbformat_minor": 5
}
