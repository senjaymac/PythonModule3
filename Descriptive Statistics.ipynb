{
 "cells": [
  {
   "cell_type": "code",
   "execution_count": 7,
   "id": "b771c894",
   "metadata": {},
   "outputs": [
    {
     "name": "stdout",
     "output_type": "stream",
     "text": [
      "Descriptive Statistics\n",
      "Mean:  5.76\n",
      "Mode:  5\n",
      "Median:  5\n",
      "Range:  8\n",
      "Population Variance:  5.14\n",
      "Population Standard Deviation:  2.27\n"
     ]
    }
   ],
   "source": [
    "import statistics\n",
    "import array as arr\n",
    "\n",
    "friends_usage = [ 5, 4, 3, 5, 8, 2, 5, 2, 5, 8, 10, 8, 7, 9, 10, 5, 7, 5, 7, 5, 4, 3, 5, 8, 4]\n",
    "\n",
    "sample_data_list = arr.array('i',friends_usage)\n",
    "dataset = sample_data_list[0:5]\n",
    "\n",
    "mean = statistics.mean(friends_usage)\n",
    "mode = statistics.mode(friends_usage)\n",
    "median = statistics.median(friends_usage)\n",
    "pstdev = round(statistics.pstdev(friends_usage),2)\n",
    "pvariance = round(statistics.pvariance (friends_usage),2)\n",
    "srange = (max(friends_usage)-min(friends_usage))\n",
    "\n",
    "variance = round(statistics.variance(sample_data_list),2)\n",
    "stdev = round(statistics.stdev(sample_data_list),2)\n",
    "\n",
    "print(\"Descriptive Statistics\")\n",
    "print(\"Mean: \", mean)\n",
    "print(\"Mode: \", mode)\n",
    "print(\"Median: \", median)\n",
    "print(\"Range: \", srange)\n",
    "print(\"Population Variance: \", pvariance)\n",
    "print(\"Population Standard Deviation: \", pstdev)\n"
   ]
  },
  {
   "cell_type": "code",
   "execution_count": 5,
   "id": "ac0febaf",
   "metadata": {},
   "outputs": [
    {
     "ename": "NameError",
     "evalue": "name 'stats' is not defined",
     "output_type": "error",
     "traceback": [
      "\u001b[1;31m---------------------------------------------------------------------------\u001b[0m",
      "\u001b[1;31mNameError\u001b[0m                                 Traceback (most recent call last)",
      "Input \u001b[1;32mIn [5]\u001b[0m, in \u001b[0;36m<cell line: 21>\u001b[1;34m()\u001b[0m\n\u001b[0;32m     18\u001b[0m pstdev \u001b[38;5;241m=\u001b[39m \u001b[38;5;28mround\u001b[39m(np\u001b[38;5;241m.\u001b[39mstd(f_usage),\u001b[38;5;241m2\u001b[39m)\n\u001b[0;32m     20\u001b[0m srange \u001b[38;5;241m=\u001b[39m np\u001b[38;5;241m.\u001b[39mptp(f_usage)\n\u001b[1;32m---> 21\u001b[0m mode \u001b[38;5;241m=\u001b[39m \u001b[43mstats\u001b[49m \u001b[38;5;241m.\u001b[39mmode(f_usage)\n\u001b[0;32m     23\u001b[0m sample_data \u001b[38;5;241m=\u001b[39m arr\u001b[38;5;241m.\u001b[39marray(\u001b[38;5;124m'\u001b[39m\u001b[38;5;124mi\u001b[39m\u001b[38;5;124m'\u001b[39m, f_usage)\n\u001b[0;32m     24\u001b[0m dataset \u001b[38;5;241m=\u001b[39m sample_data[\u001b[38;5;241m0\u001b[39m,\u001b[38;5;241m5\u001b[39m]\n",
      "\u001b[1;31mNameError\u001b[0m: name 'stats' is not defined"
     ]
    }
   ],
   "source": [
    "import numpy as np\n",
    "\n",
    "f_usage = [ 5, 4, 3, 5, 8, 2, 5, 2, 5, 8, 10, 8, 7, 9, 10, 5, 7, 5, 7, 5, 4, 3, 5, 8, 4]\n",
    "\n",
    "def display_stat():\n",
    "    print(\"Mean: \", mean)\n",
    "    print(\"Mode: \", mode)\n",
    "    print(\"Median: \", median)\n",
    "    print(\"Range: \", srange)\n",
    "    print(\"Variance: \", pvariance)\n",
    "    print(\"Standard Deviation: \", pstdev)\n",
    "    print(\"Sample Variance: \", variance)\n",
    "    print(\"Sample Standard Deviation: \", sdeviation)\n",
    "    \n",
    "mean = np.mean(f_usage)\n",
    "median = np.median(f_usage)\n",
    "pvariance = round(np.var(f_usage),2)\n",
    "pstdev = round(np.std(f_usage),2)\n",
    "\n",
    "srange = np.ptp(f_usage)\n",
    "mode = stats .mode(f_usage)\n",
    "\n",
    "sample_data = arr.array('i', f_usage)\n",
    "dataset = sample_data[0,5]\n",
    "f_usage_s = dataset.tolist()\n",
    "\n",
    "variance = round(np.var(f_usage_s,ddof=1),2)\n",
    "sdeviation = round(np,std(f_usage_s,ddof=1))\n",
    "\n"
   ]
  },
  {
   "cell_type": "code",
   "execution_count": null,
   "id": "4eb9cdbb",
   "metadata": {},
   "outputs": [],
   "source": [
    "import"
   ]
  }
 ],
 "metadata": {
  "kernelspec": {
   "display_name": "Python 3 (ipykernel)",
   "language": "python",
   "name": "python3"
  },
  "language_info": {
   "codemirror_mode": {
    "name": "ipython",
    "version": 3
   },
   "file_extension": ".py",
   "mimetype": "text/x-python",
   "name": "python",
   "nbconvert_exporter": "python",
   "pygments_lexer": "ipython3",
   "version": "3.10.4"
  }
 },
 "nbformat": 4,
 "nbformat_minor": 5
}
