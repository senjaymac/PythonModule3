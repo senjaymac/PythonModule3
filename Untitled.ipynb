{
 "cells": [
  {
   "cell_type": "code",
   "execution_count": 1,
   "id": "e1daed7c",
   "metadata": {},
   "outputs": [
    {
     "name": "stdout",
     "output_type": "stream",
     "text": [
      "Hello World!\n"
     ]
    }
   ],
   "source": [
    "print(\"Hello World!\")"
   ]
  },
  {
   "cell_type": "code",
   "execution_count": 2,
   "id": "b4438f05",
   "metadata": {},
   "outputs": [
    {
     "name": "stdout",
     "output_type": "stream",
     "text": [
      "3\n"
     ]
    }
   ],
   "source": [
    "x = 1\n",
    "y = 2\n",
    "print (x+y)"
   ]
  },
  {
   "cell_type": "markdown",
   "id": "8ea0011a",
   "metadata": {},
   "source": [
    "### Python Review"
   ]
  },
  {
   "cell_type": "markdown",
   "id": "29bc24dc",
   "metadata": {},
   "source": [
    "#### Function"
   ]
  },
  {
   "cell_type": "code",
   "execution_count": 3,
   "id": "2b5cf4c5",
   "metadata": {},
   "outputs": [
    {
     "name": "stdout",
     "output_type": "stream",
     "text": [
      "The mean of this list is 81.5\n"
     ]
    }
   ],
   "source": [
    "def get_mean(ave):\n",
    "    print(\"The mean of this list is\", ave)\n",
    "    \n",
    "n_num = [ 78, 80, 79, 80, 87 ,85]\n",
    "n = len(n_num)\n",
    "\n",
    "get_sum = sum(n_num)\n",
    "mean = get_sum/n\n",
    "\n",
    "m = str(mean)\n",
    "\n",
    "get_mean(m)"
   ]
  },
  {
   "cell_type": "markdown",
   "id": "18907d7b",
   "metadata": {},
   "source": [
    "#### Arrays and Lists\n"
   ]
  },
  {
   "cell_type": "markdown",
   "id": "5d6c1740",
   "metadata": {},
   "source": [
    "An array is a type of data structure. To use an array in python"
   ]
  },
  {
   "cell_type": "code",
   "execution_count": 1,
   "id": "866da0e8",
   "metadata": {
    "scrolled": true
   },
   "outputs": [
    {
     "name": "stdout",
     "output_type": "stream",
     "text": [
      "array('i', [5, 4, 3, 5, 8])\n"
     ]
    }
   ],
   "source": [
    "import array as arr\n",
    "\n",
    "friends_usage = [5,4,3,5,8,2,5,2,5,8,10,8,7,9,10,5,7,5,7,4,3,5,8,4]\n",
    "sample_data = arr.array('i',friends_usage)\n",
    "\n",
    "print(sample_data[0:5])"
   ]
  },
  {
   "cell_type": "code",
   "execution_count": 2,
   "id": "2e0106a2",
   "metadata": {},
   "outputs": [
    {
     "name": "stdout",
     "output_type": "stream",
     "text": [
      "[5, 4, 3, 5, 8]\n"
     ]
    }
   ],
   "source": [
    "from array import *\n",
    "sample_data_array = array('i', [5,4,3,5,8])\n",
    "\n",
    "sample_data_list = sample_data_array.tolist()\n",
    "\n",
    "print(sample_data_list)"
   ]
  },
  {
   "cell_type": "code",
   "execution_count": 7,
   "id": "3884535f",
   "metadata": {},
   "outputs": [
    {
     "name": "stdout",
     "output_type": "stream",
     "text": [
      "Mean:  85.75\n",
      "Mode:  85\n",
      "Median:  86.0\n"
     ]
    }
   ],
   "source": [
    "import statistics\n",
    "\n",
    "test = [89, 90, 91, 90, 85, 91, 88, 80, 77, 81, 76, 85, 87, 88, 83, 95, 88, 82, 85, 84]\n",
    "\n",
    "mean = statistics.mean(test)\n",
    "mode = statistics.mode(test)\n",
    "median = statistics.median(test)\n",
    "\n",
    "print(\"Mean: \", mean)\n",
    "print(\"Mode: \", mode)\n",
    "print(\"Median: \", median)"
   ]
  },
  {
   "cell_type": "code",
   "execution_count": 9,
   "id": "52dc12ec",
   "metadata": {},
   "outputs": [
    {
     "ename": "ModuleNotFoundError",
     "evalue": "No module named 'scipy'",
     "output_type": "error",
     "traceback": [
      "\u001b[1;31m---------------------------------------------------------------------------\u001b[0m",
      "\u001b[1;31mModuleNotFoundError\u001b[0m                       Traceback (most recent call last)",
      "Input \u001b[1;32mIn [9]\u001b[0m, in \u001b[0;36m<cell line: 2>\u001b[1;34m()\u001b[0m\n\u001b[0;32m      1\u001b[0m \u001b[38;5;28;01mimport\u001b[39;00m \u001b[38;5;21;01mnumpy\u001b[39;00m \u001b[38;5;28;01mas\u001b[39;00m \u001b[38;5;21;01mnp\u001b[39;00m\n\u001b[1;32m----> 2\u001b[0m \u001b[38;5;28;01mfrom\u001b[39;00m \u001b[38;5;21;01mscipy\u001b[39;00m \u001b[38;5;28;01mimport\u001b[39;00m stats \u001b[38;5;28;01mas\u001b[39;00m sp\n\u001b[0;32m      4\u001b[0m sample_data \u001b[38;5;241m=\u001b[39m [\u001b[38;5;241m103\u001b[39m,\u001b[38;5;241m151\u001b[39m,\u001b[38;5;241m176\u001b[39m,\u001b[38;5;241m188\u001b[39m,\u001b[38;5;241m146\u001b[39m,\u001b[38;5;241m184\u001b[39m,\u001b[38;5;241m175\u001b[39m,\u001b[38;5;241m112\u001b[39m,\u001b[38;5;241m115\u001b[39m,\u001b[38;5;241m163\u001b[39m]\n\u001b[0;32m      6\u001b[0m mean \u001b[38;5;241m=\u001b[39m np\u001b[38;5;241m.\u001b[39mmean(sample_data)\n",
      "\u001b[1;31mModuleNotFoundError\u001b[0m: No module named 'scipy'"
     ]
    }
   ],
   "source": [
    "import numpy as np\n",
    "from scipy import stats as sp\n",
    "\n",
    "sample_data = [103,151,176,188,146,184,175,112,115,163]\n",
    "\n",
    "mean = np.mean(sample_data)\n",
    "median = np.median(sample_data)\n",
    "mode = np.mode(sample_data)\n",
    "var = round(np.var(sample_data,ddof=1),2)\n",
    "sdev = round(np.std(sample_data,ddof=1),2)\n",
    "Range = np.ptp(sample_data)\n",
    "\n",
    "print('mean: ', mean)\n",
    "print('mode: ', mode)\n",
    "print('median: ', median)\n",
    "print('Variance: ', var)\n",
    "print('Standard deviation: ', sdev)\n",
    "print('Range: ', Range)"
   ]
  },
  {
   "cell_type": "code",
   "execution_count": null,
   "id": "14c4095f",
   "metadata": {},
   "outputs": [],
   "source": []
  }
 ],
 "metadata": {
  "kernelspec": {
   "display_name": "Python 3 (ipykernel)",
   "language": "python",
   "name": "python3"
  },
  "language_info": {
   "codemirror_mode": {
    "name": "ipython",
    "version": 3
   },
   "file_extension": ".py",
   "mimetype": "text/x-python",
   "name": "python",
   "nbconvert_exporter": "python",
   "pygments_lexer": "ipython3",
   "version": "3.10.4"
  }
 },
 "nbformat": 4,
 "nbformat_minor": 5
}
